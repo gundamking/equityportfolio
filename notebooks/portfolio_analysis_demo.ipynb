{
  "cells": [
    {
      "cell_type": "raw",
      "metadata": {
        "vscode": {
          "languageId": "raw"
        }
      },
      "source": [
        "# Equity Portfolio Management System - Comprehensive Demo\n",
        "\n",
        "This notebook demonstrates the capabilities of our professional equity portfolio management system.\n",
        "\n",
        "## Features Demonstrated:\n",
        "- Data loading and preprocessing\n",
        "- Multiple trading strategies (Momentum, Dividend, Mean Reversion)\n",
        "- Portfolio backtesting and optimization\n",
        "- Comprehensive performance analytics\n",
        "- Risk management and analysis\n",
        "- Professional visualizations\n",
        "\n",
        "---\n"
      ]
    },
    {
      "cell_type": "code",
      "execution_count": null,
      "metadata": {},
      "outputs": [],
      "source": [
        "# Import required libraries\n",
        "import sys\n",
        "import os\n",
        "sys.path.append('../src')\n",
        "\n",
        "import pandas as pd\n",
        "import numpy as np\n",
        "import matplotlib.pyplot as plt\n",
        "import seaborn as sns\n",
        "from datetime import datetime, timedelta\n",
        "import warnings\n",
        "warnings.filterwarnings('ignore')\n",
        "\n",
        "# Import our portfolio management modules\n",
        "from portfolio_management import (\n",
        "    DataLoader, \n",
        "    PortfolioEngine, \n",
        "    PerformanceAnalytics,\n",
        "    MomentumStrategy,\n",
        "    DividendStrategy,\n",
        "    MeanReversionStrategy,\n",
        "    CombinedStrategy\n",
        ")\n",
        "\n",
        "# Set up plotting style\n",
        "plt.style.use('seaborn-v0_8')\n",
        "sns.set_palette(\"husl\")\n",
        "\n",
        "print(\"✅ All modules imported successfully!\")\n"
      ]
    }
  ],
  "metadata": {
    "language_info": {
      "name": "python"
    }
  },
  "nbformat": 4,
  "nbformat_minor": 2
}
